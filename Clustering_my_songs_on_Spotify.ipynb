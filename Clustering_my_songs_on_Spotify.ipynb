{
 "cells": [
  {
   "cell_type": "markdown",
   "metadata": {
    "id": "QIcSeSD1kYyX"
   },
   "source": [
    "# **Import Libraries** "
   ]
  },
  {
   "cell_type": "markdown",
   "metadata": {
    "id": "cqYbm5_BvIHZ"
   },
   "source": [
    "I am going to sort my saved songs on Spotify by various clusters that are going to be derived due to KMeans clustering model, which was trained with Spotify Dataset 1921-2020 found on Kaggle.Spotify Dataset 1921-2020 contains more than 160 000 songs that were released in the period of 1921-2020. Aditionally, all the clusters derived will represent a certain mood I have while listening to them. Furthermore, I am going to get my Spotify recommendations and classify them as well. \n",
    "Get started:https://www.kaggle.com/yamaerenay/spotify-dataset-19212020-160k-tracks"
   ]
  },
  {
   "cell_type": "code",
   "execution_count": 63,
   "metadata": {
    "id": "YLLCqrv06SWB"
   },
   "outputs": [],
   "source": [
    "import spotipy\n",
    "from spotipy.oauth2 import SpotifyClientCredentials\n",
    "import spotipy.util as util #import libs\n",
    "\n",
    "import pandas as pd\n",
    "import torch\n",
    "import numpy as np"
   ]
  },
  {
   "cell_type": "code",
   "execution_count": 55,
   "metadata": {
    "colab": {
     "base_uri": "https://localhost:8080/",
     "height": 34
    },
    "id": "SNsBLkjE9_wc",
    "outputId": "a8f558e8-30d1-4ae7-e096-895fdb833d96"
   },
   "outputs": [
    {
     "name": "stdout",
     "output_type": "stream",
     "text": [
      "Drive already mounted at /content/drive; to attempt to forcibly remount, call drive.mount(\"/content/drive\", force_remount=True).\n"
     ]
    }
   ],
   "source": [
    "from google.colab import drive\n",
    "drive.mount('/content/drive')"
   ]
  },
  {
   "cell_type": "markdown",
   "metadata": {
    "id": "zsquDc2flUtC"
   },
   "source": [
    "## Importing the dataset"
   ]
  },
  {
   "cell_type": "code",
   "execution_count": 57,
   "metadata": {
    "id": "LAp1DAiu6SWN"
   },
   "outputs": [],
   "source": [
    "df_all=pd.read_csv(\"/content/drive/My Drive/projects/data.csv\") #load Spotify's dataset"
   ]
  },
  {
   "cell_type": "code",
   "execution_count": null,
   "metadata": {
    "colab": {
     "base_uri": "https://localhost:8080/",
     "height": 428
    },
    "id": "hKxdybQG6SWW",
    "outputId": "12f06dca-e657-4cb9-d906-51b1d024fc4d"
   },
   "outputs": [
    {
     "data": {
      "text/html": [
       "<div>\n",
       "<style scoped>\n",
       "    .dataframe tbody tr th:only-of-type {\n",
       "        vertical-align: middle;\n",
       "    }\n",
       "\n",
       "    .dataframe tbody tr th {\n",
       "        vertical-align: top;\n",
       "    }\n",
       "\n",
       "    .dataframe thead th {\n",
       "        text-align: right;\n",
       "    }\n",
       "</style>\n",
       "<table border=\"1\" class=\"dataframe\">\n",
       "  <thead>\n",
       "    <tr style=\"text-align: right;\">\n",
       "      <th></th>\n",
       "      <th>acousticness</th>\n",
       "      <th>artists</th>\n",
       "      <th>danceability</th>\n",
       "      <th>duration_ms</th>\n",
       "      <th>energy</th>\n",
       "      <th>explicit</th>\n",
       "      <th>id</th>\n",
       "      <th>instrumentalness</th>\n",
       "      <th>key</th>\n",
       "      <th>liveness</th>\n",
       "      <th>loudness</th>\n",
       "      <th>mode</th>\n",
       "      <th>name</th>\n",
       "      <th>popularity</th>\n",
       "      <th>release_date</th>\n",
       "      <th>speechiness</th>\n",
       "      <th>tempo</th>\n",
       "      <th>valence</th>\n",
       "      <th>year</th>\n",
       "    </tr>\n",
       "  </thead>\n",
       "  <tbody>\n",
       "    <tr>\n",
       "      <th>0</th>\n",
       "      <td>0.995</td>\n",
       "      <td>['Carl Woitschach']</td>\n",
       "      <td>0.708</td>\n",
       "      <td>158648</td>\n",
       "      <td>0.1950</td>\n",
       "      <td>0</td>\n",
       "      <td>6KbQ3uYMLKb5jDxLF7wYDD</td>\n",
       "      <td>0.563</td>\n",
       "      <td>10</td>\n",
       "      <td>0.1510</td>\n",
       "      <td>-12.428</td>\n",
       "      <td>1</td>\n",
       "      <td>Singende Bataillone 1. Teil</td>\n",
       "      <td>0</td>\n",
       "      <td>1928</td>\n",
       "      <td>0.0506</td>\n",
       "      <td>118.469</td>\n",
       "      <td>0.7790</td>\n",
       "      <td>1928</td>\n",
       "    </tr>\n",
       "    <tr>\n",
       "      <th>1</th>\n",
       "      <td>0.994</td>\n",
       "      <td>['Robert Schumann', 'Vladimir Horowitz']</td>\n",
       "      <td>0.379</td>\n",
       "      <td>282133</td>\n",
       "      <td>0.0135</td>\n",
       "      <td>0</td>\n",
       "      <td>6KuQTIu1KoTTkLXKrwlLPV</td>\n",
       "      <td>0.901</td>\n",
       "      <td>8</td>\n",
       "      <td>0.0763</td>\n",
       "      <td>-28.454</td>\n",
       "      <td>1</td>\n",
       "      <td>Fantasiestücke, Op. 111: Più tosto lento</td>\n",
       "      <td>0</td>\n",
       "      <td>1928</td>\n",
       "      <td>0.0462</td>\n",
       "      <td>83.972</td>\n",
       "      <td>0.0767</td>\n",
       "      <td>1928</td>\n",
       "    </tr>\n",
       "    <tr>\n",
       "      <th>2</th>\n",
       "      <td>0.604</td>\n",
       "      <td>['Seweryn Goszczyński']</td>\n",
       "      <td>0.749</td>\n",
       "      <td>104300</td>\n",
       "      <td>0.2200</td>\n",
       "      <td>0</td>\n",
       "      <td>6L63VW0PibdM1HDSBoqnoM</td>\n",
       "      <td>0.000</td>\n",
       "      <td>5</td>\n",
       "      <td>0.1190</td>\n",
       "      <td>-19.924</td>\n",
       "      <td>0</td>\n",
       "      <td>Chapter 1.18 - Zamek kaniowski</td>\n",
       "      <td>0</td>\n",
       "      <td>1928</td>\n",
       "      <td>0.9290</td>\n",
       "      <td>107.177</td>\n",
       "      <td>0.8800</td>\n",
       "      <td>1928</td>\n",
       "    </tr>\n",
       "    <tr>\n",
       "      <th>3</th>\n",
       "      <td>0.995</td>\n",
       "      <td>['Francisco Canaro']</td>\n",
       "      <td>0.781</td>\n",
       "      <td>180760</td>\n",
       "      <td>0.1300</td>\n",
       "      <td>0</td>\n",
       "      <td>6M94FkXd15sOAOQYRnWPN8</td>\n",
       "      <td>0.887</td>\n",
       "      <td>1</td>\n",
       "      <td>0.1110</td>\n",
       "      <td>-14.734</td>\n",
       "      <td>0</td>\n",
       "      <td>Bebamos Juntos - Instrumental (Remasterizado)</td>\n",
       "      <td>0</td>\n",
       "      <td>1928-09-25</td>\n",
       "      <td>0.0926</td>\n",
       "      <td>108.003</td>\n",
       "      <td>0.7200</td>\n",
       "      <td>1928</td>\n",
       "    </tr>\n",
       "    <tr>\n",
       "      <th>4</th>\n",
       "      <td>0.990</td>\n",
       "      <td>['Frédéric Chopin', 'Vladimir Horowitz']</td>\n",
       "      <td>0.210</td>\n",
       "      <td>687733</td>\n",
       "      <td>0.2040</td>\n",
       "      <td>0</td>\n",
       "      <td>6N6tiFZ9vLTSOIxkj8qKrd</td>\n",
       "      <td>0.908</td>\n",
       "      <td>11</td>\n",
       "      <td>0.0980</td>\n",
       "      <td>-16.829</td>\n",
       "      <td>1</td>\n",
       "      <td>Polonaise-Fantaisie in A-Flat Major, Op. 61</td>\n",
       "      <td>1</td>\n",
       "      <td>1928</td>\n",
       "      <td>0.0424</td>\n",
       "      <td>62.149</td>\n",
       "      <td>0.0693</td>\n",
       "      <td>1928</td>\n",
       "    </tr>\n",
       "  </tbody>\n",
       "</table>\n",
       "</div>"
      ],
      "text/plain": [
       "   acousticness                                   artists  ...  valence  year\n",
       "0         0.995                       ['Carl Woitschach']  ...   0.7790  1928\n",
       "1         0.994  ['Robert Schumann', 'Vladimir Horowitz']  ...   0.0767  1928\n",
       "2         0.604                   ['Seweryn Goszczyński']  ...   0.8800  1928\n",
       "3         0.995                      ['Francisco Canaro']  ...   0.7200  1928\n",
       "4         0.990  ['Frédéric Chopin', 'Vladimir Horowitz']  ...   0.0693  1928\n",
       "\n",
       "[5 rows x 19 columns]"
      ]
     },
     "execution_count": 124,
     "metadata": {
      "tags": []
     },
     "output_type": "execute_result"
    }
   ],
   "source": [
    "df_all.head() #first 5 entries"
   ]
  },
  {
   "cell_type": "code",
   "execution_count": null,
   "metadata": {
    "colab": {
     "base_uri": "https://localhost:8080/",
     "height": 34
    },
    "id": "VnttAV7A6SWd",
    "outputId": "3a3ef749-0e60-4bd7-a9ec-360db1001bfe"
   },
   "outputs": [
    {
     "data": {
      "text/plain": [
       "(169909, 19)"
      ]
     },
     "execution_count": 125,
     "metadata": {
      "tags": []
     },
     "output_type": "execute_result"
    }
   ],
   "source": [
    "df_all.shape"
   ]
  },
  {
   "cell_type": "code",
   "execution_count": null,
   "metadata": {
    "colab": {
     "base_uri": "https://localhost:8080/",
     "height": 317
    },
    "id": "hityoukE6SWw",
    "outputId": "50a8e384-ffd0-4dc9-ecf3-3fcf7421a206"
   },
   "outputs": [
    {
     "data": {
      "text/html": [
       "<div>\n",
       "<style scoped>\n",
       "    .dataframe tbody tr th:only-of-type {\n",
       "        vertical-align: middle;\n",
       "    }\n",
       "\n",
       "    .dataframe tbody tr th {\n",
       "        vertical-align: top;\n",
       "    }\n",
       "\n",
       "    .dataframe thead th {\n",
       "        text-align: right;\n",
       "    }\n",
       "</style>\n",
       "<table border=\"1\" class=\"dataframe\">\n",
       "  <thead>\n",
       "    <tr style=\"text-align: right;\">\n",
       "      <th></th>\n",
       "      <th>acousticness</th>\n",
       "      <th>danceability</th>\n",
       "      <th>duration_ms</th>\n",
       "      <th>energy</th>\n",
       "      <th>explicit</th>\n",
       "      <th>instrumentalness</th>\n",
       "      <th>key</th>\n",
       "      <th>liveness</th>\n",
       "      <th>loudness</th>\n",
       "      <th>mode</th>\n",
       "      <th>popularity</th>\n",
       "      <th>speechiness</th>\n",
       "      <th>tempo</th>\n",
       "      <th>valence</th>\n",
       "      <th>year</th>\n",
       "    </tr>\n",
       "  </thead>\n",
       "  <tbody>\n",
       "    <tr>\n",
       "      <th>count</th>\n",
       "      <td>169909.000000</td>\n",
       "      <td>169909.000000</td>\n",
       "      <td>1.699090e+05</td>\n",
       "      <td>169909.000000</td>\n",
       "      <td>169909.000000</td>\n",
       "      <td>169909.000000</td>\n",
       "      <td>169909.000000</td>\n",
       "      <td>169909.000000</td>\n",
       "      <td>169909.000000</td>\n",
       "      <td>169909.000000</td>\n",
       "      <td>169909.000000</td>\n",
       "      <td>169909.000000</td>\n",
       "      <td>169909.000000</td>\n",
       "      <td>169909.000000</td>\n",
       "      <td>169909.000000</td>\n",
       "    </tr>\n",
       "    <tr>\n",
       "      <th>mean</th>\n",
       "      <td>0.493214</td>\n",
       "      <td>0.538150</td>\n",
       "      <td>2.314062e+05</td>\n",
       "      <td>0.488593</td>\n",
       "      <td>0.084863</td>\n",
       "      <td>0.161937</td>\n",
       "      <td>5.200519</td>\n",
       "      <td>0.206690</td>\n",
       "      <td>-11.370289</td>\n",
       "      <td>0.708556</td>\n",
       "      <td>31.556610</td>\n",
       "      <td>0.094058</td>\n",
       "      <td>116.948017</td>\n",
       "      <td>0.532095</td>\n",
       "      <td>1977.223231</td>\n",
       "    </tr>\n",
       "    <tr>\n",
       "      <th>std</th>\n",
       "      <td>0.376627</td>\n",
       "      <td>0.175346</td>\n",
       "      <td>1.213219e+05</td>\n",
       "      <td>0.267390</td>\n",
       "      <td>0.278679</td>\n",
       "      <td>0.309329</td>\n",
       "      <td>3.515257</td>\n",
       "      <td>0.176796</td>\n",
       "      <td>5.666765</td>\n",
       "      <td>0.454429</td>\n",
       "      <td>21.582614</td>\n",
       "      <td>0.149937</td>\n",
       "      <td>30.726937</td>\n",
       "      <td>0.262408</td>\n",
       "      <td>25.593168</td>\n",
       "    </tr>\n",
       "    <tr>\n",
       "      <th>min</th>\n",
       "      <td>0.000000</td>\n",
       "      <td>0.000000</td>\n",
       "      <td>5.108000e+03</td>\n",
       "      <td>0.000000</td>\n",
       "      <td>0.000000</td>\n",
       "      <td>0.000000</td>\n",
       "      <td>0.000000</td>\n",
       "      <td>0.000000</td>\n",
       "      <td>-60.000000</td>\n",
       "      <td>0.000000</td>\n",
       "      <td>0.000000</td>\n",
       "      <td>0.000000</td>\n",
       "      <td>0.000000</td>\n",
       "      <td>0.000000</td>\n",
       "      <td>1921.000000</td>\n",
       "    </tr>\n",
       "    <tr>\n",
       "      <th>25%</th>\n",
       "      <td>0.094500</td>\n",
       "      <td>0.417000</td>\n",
       "      <td>1.710400e+05</td>\n",
       "      <td>0.263000</td>\n",
       "      <td>0.000000</td>\n",
       "      <td>0.000000</td>\n",
       "      <td>2.000000</td>\n",
       "      <td>0.098400</td>\n",
       "      <td>-14.470000</td>\n",
       "      <td>0.000000</td>\n",
       "      <td>12.000000</td>\n",
       "      <td>0.034900</td>\n",
       "      <td>93.516000</td>\n",
       "      <td>0.322000</td>\n",
       "      <td>1957.000000</td>\n",
       "    </tr>\n",
       "    <tr>\n",
       "      <th>50%</th>\n",
       "      <td>0.492000</td>\n",
       "      <td>0.548000</td>\n",
       "      <td>2.086000e+05</td>\n",
       "      <td>0.481000</td>\n",
       "      <td>0.000000</td>\n",
       "      <td>0.000204</td>\n",
       "      <td>5.000000</td>\n",
       "      <td>0.135000</td>\n",
       "      <td>-10.474000</td>\n",
       "      <td>1.000000</td>\n",
       "      <td>33.000000</td>\n",
       "      <td>0.045000</td>\n",
       "      <td>114.778000</td>\n",
       "      <td>0.544000</td>\n",
       "      <td>1978.000000</td>\n",
       "    </tr>\n",
       "    <tr>\n",
       "      <th>75%</th>\n",
       "      <td>0.888000</td>\n",
       "      <td>0.667000</td>\n",
       "      <td>2.629600e+05</td>\n",
       "      <td>0.710000</td>\n",
       "      <td>0.000000</td>\n",
       "      <td>0.086800</td>\n",
       "      <td>8.000000</td>\n",
       "      <td>0.263000</td>\n",
       "      <td>-7.118000</td>\n",
       "      <td>1.000000</td>\n",
       "      <td>48.000000</td>\n",
       "      <td>0.075400</td>\n",
       "      <td>135.712000</td>\n",
       "      <td>0.749000</td>\n",
       "      <td>1999.000000</td>\n",
       "    </tr>\n",
       "    <tr>\n",
       "      <th>max</th>\n",
       "      <td>0.996000</td>\n",
       "      <td>0.988000</td>\n",
       "      <td>5.403500e+06</td>\n",
       "      <td>1.000000</td>\n",
       "      <td>1.000000</td>\n",
       "      <td>1.000000</td>\n",
       "      <td>11.000000</td>\n",
       "      <td>1.000000</td>\n",
       "      <td>3.855000</td>\n",
       "      <td>1.000000</td>\n",
       "      <td>100.000000</td>\n",
       "      <td>0.969000</td>\n",
       "      <td>244.091000</td>\n",
       "      <td>1.000000</td>\n",
       "      <td>2020.000000</td>\n",
       "    </tr>\n",
       "  </tbody>\n",
       "</table>\n",
       "</div>"
      ],
      "text/plain": [
       "        acousticness   danceability  ...        valence           year\n",
       "count  169909.000000  169909.000000  ...  169909.000000  169909.000000\n",
       "mean        0.493214       0.538150  ...       0.532095    1977.223231\n",
       "std         0.376627       0.175346  ...       0.262408      25.593168\n",
       "min         0.000000       0.000000  ...       0.000000    1921.000000\n",
       "25%         0.094500       0.417000  ...       0.322000    1957.000000\n",
       "50%         0.492000       0.548000  ...       0.544000    1978.000000\n",
       "75%         0.888000       0.667000  ...       0.749000    1999.000000\n",
       "max         0.996000       0.988000  ...       1.000000    2020.000000\n",
       "\n",
       "[8 rows x 15 columns]"
      ]
     },
     "execution_count": 126,
     "metadata": {
      "tags": []
     },
     "output_type": "execute_result"
    }
   ],
   "source": [
    "df_all.describe()"
   ]
  },
  {
   "cell_type": "markdown",
   "metadata": {
    "id": "9EsJwfZOlmwt"
   },
   "source": [
    "## Feature Preprocessing"
   ]
  },
  {
   "cell_type": "code",
   "execution_count": 58,
   "metadata": {
    "id": "6dxmoepi6SXU"
   },
   "outputs": [],
   "source": [
    "X=df_all[[\"acousticness\", \"danceability\", \"liveness\",\"energy\", \"instrumentalness\", \"loudness\", \"speechiness\"]] #select features \n",
    "\n"
   ]
  },
  {
   "cell_type": "code",
   "execution_count": null,
   "metadata": {
    "colab": {
     "base_uri": "https://localhost:8080/",
     "height": 204
    },
    "id": "8lGBTLFC6SXl",
    "outputId": "2db74a66-2e77-423d-cc43-7ae46c2df663"
   },
   "outputs": [
    {
     "data": {
      "text/html": [
       "<div>\n",
       "<style scoped>\n",
       "    .dataframe tbody tr th:only-of-type {\n",
       "        vertical-align: middle;\n",
       "    }\n",
       "\n",
       "    .dataframe tbody tr th {\n",
       "        vertical-align: top;\n",
       "    }\n",
       "\n",
       "    .dataframe thead th {\n",
       "        text-align: right;\n",
       "    }\n",
       "</style>\n",
       "<table border=\"1\" class=\"dataframe\">\n",
       "  <thead>\n",
       "    <tr style=\"text-align: right;\">\n",
       "      <th></th>\n",
       "      <th>acousticness</th>\n",
       "      <th>danceability</th>\n",
       "      <th>liveness</th>\n",
       "      <th>energy</th>\n",
       "      <th>instrumentalness</th>\n",
       "      <th>loudness</th>\n",
       "      <th>speechiness</th>\n",
       "    </tr>\n",
       "  </thead>\n",
       "  <tbody>\n",
       "    <tr>\n",
       "      <th>0</th>\n",
       "      <td>0.995</td>\n",
       "      <td>0.708</td>\n",
       "      <td>0.1510</td>\n",
       "      <td>0.1950</td>\n",
       "      <td>0.563</td>\n",
       "      <td>-12.428</td>\n",
       "      <td>0.0506</td>\n",
       "    </tr>\n",
       "    <tr>\n",
       "      <th>1</th>\n",
       "      <td>0.994</td>\n",
       "      <td>0.379</td>\n",
       "      <td>0.0763</td>\n",
       "      <td>0.0135</td>\n",
       "      <td>0.901</td>\n",
       "      <td>-28.454</td>\n",
       "      <td>0.0462</td>\n",
       "    </tr>\n",
       "    <tr>\n",
       "      <th>2</th>\n",
       "      <td>0.604</td>\n",
       "      <td>0.749</td>\n",
       "      <td>0.1190</td>\n",
       "      <td>0.2200</td>\n",
       "      <td>0.000</td>\n",
       "      <td>-19.924</td>\n",
       "      <td>0.9290</td>\n",
       "    </tr>\n",
       "    <tr>\n",
       "      <th>3</th>\n",
       "      <td>0.995</td>\n",
       "      <td>0.781</td>\n",
       "      <td>0.1110</td>\n",
       "      <td>0.1300</td>\n",
       "      <td>0.887</td>\n",
       "      <td>-14.734</td>\n",
       "      <td>0.0926</td>\n",
       "    </tr>\n",
       "    <tr>\n",
       "      <th>4</th>\n",
       "      <td>0.990</td>\n",
       "      <td>0.210</td>\n",
       "      <td>0.0980</td>\n",
       "      <td>0.2040</td>\n",
       "      <td>0.908</td>\n",
       "      <td>-16.829</td>\n",
       "      <td>0.0424</td>\n",
       "    </tr>\n",
       "  </tbody>\n",
       "</table>\n",
       "</div>"
      ],
      "text/plain": [
       "   acousticness  danceability  ...  loudness  speechiness\n",
       "0         0.995         0.708  ...   -12.428       0.0506\n",
       "1         0.994         0.379  ...   -28.454       0.0462\n",
       "2         0.604         0.749  ...   -19.924       0.9290\n",
       "3         0.995         0.781  ...   -14.734       0.0926\n",
       "4         0.990         0.210  ...   -16.829       0.0424\n",
       "\n",
       "[5 rows x 7 columns]"
      ]
     },
     "execution_count": 128,
     "metadata": {
      "tags": []
     },
     "output_type": "execute_result"
    }
   ],
   "source": [
    "X.head()"
   ]
  },
  {
   "cell_type": "code",
   "execution_count": 59,
   "metadata": {
    "id": "JDtW0iH06SX9"
   },
   "outputs": [],
   "source": [
    "from sklearn import preprocessing \n",
    "scaler=preprocessing.MinMaxScaler() #intantiate a scaler\n",
    "#all the feature values are in the range [0,1] ,except of loudnes\n",
    "#so let's scale it to fit the exact same range"
   ]
  },
  {
   "cell_type": "code",
   "execution_count": 60,
   "metadata": {
    "id": "aTumkbG_6SYL"
   },
   "outputs": [],
   "source": [
    "loudness=X[\"loudness\"].values\n",
    "loudness_scaled=scaler.fit_transform(loudness.reshape(-1, 1))"
   ]
  },
  {
   "cell_type": "code",
   "execution_count": 61,
   "metadata": {
    "colab": {
     "base_uri": "https://localhost:8080/",
     "height": 153
    },
    "id": "JfkzE4YB6SYd",
    "outputId": "ed3a4d6e-052e-4d90-b878-19f0068fdf2b"
   },
   "outputs": [
    {
     "name": "stderr",
     "output_type": "stream",
     "text": [
      "/usr/local/lib/python3.6/dist-packages/ipykernel_launcher.py:1: SettingWithCopyWarning:\n",
      "\n",
      "\n",
      "A value is trying to be set on a copy of a slice from a DataFrame.\n",
      "Try using .loc[row_indexer,col_indexer] = value instead\n",
      "\n",
      "See the caveats in the documentation: https://pandas.pydata.org/pandas-docs/stable/user_guide/indexing.html#returning-a-view-versus-a-copy\n",
      "\n"
     ]
    }
   ],
   "source": [
    "X[\"loudness\"]=loudness_scaled"
   ]
  },
  {
   "cell_type": "code",
   "execution_count": 62,
   "metadata": {
    "id": "FL_AiZBL6SY7"
   },
   "outputs": [],
   "source": [
    "features=X.values"
   ]
  },
  {
   "cell_type": "markdown",
   "metadata": {
    "id": "X28NilcSl1OZ"
   },
   "source": [
    "## Selecting the right KMeans model"
   ]
  },
  {
   "cell_type": "code",
   "execution_count": null,
   "metadata": {
    "colab": {
     "base_uri": "https://localhost:8080/",
     "height": 357
    },
    "id": "yoYnjRzU6SaB",
    "outputId": "3c6ea3c9-2e33-476b-f08d-9e85cbf1e458"
   },
   "outputs": [
    {
     "name": "stdout",
     "output_type": "stream",
     "text": [
      "Completed:1\n",
      "Completed:2\n",
      "Completed:3\n",
      "Completed:4\n",
      "Completed:5\n",
      "Completed:6\n",
      "Completed:7\n",
      "Completed:8\n",
      "Completed:9\n",
      "Completed:10\n",
      "Completed:11\n",
      "Completed:12\n",
      "Completed:13\n",
      "Completed:14\n",
      "Completed:15\n",
      "Completed:16\n",
      "Completed:17\n",
      "Completed:18\n",
      "Completed:19\n",
      "Completed:20\n"
     ]
    }
   ],
   "source": [
    "from sklearn.cluster import KMeans\n",
    "Sum_of_squared_distances = []\n",
    "K = range(1,21) #let's use elbow method to find out what the optimal k is \n",
    "for k in K:\n",
    "    model = KMeans(n_clusters=k)\n",
    "    model = model.fit(features)\n",
    "    Sum_of_squared_distances.append(model.inertia_)\n",
    "    print(f'Completed:{k}')"
   ]
  },
  {
   "cell_type": "code",
   "execution_count": null,
   "metadata": {
    "colab": {
     "base_uri": "https://localhost:8080/",
     "height": 232
    },
    "id": "e5sb-W9V6Sae",
    "outputId": "a4735da5-f551-4f35-d97e-9b07400215e4"
   },
   "outputs": [
    {
     "data": {
      "image/png": "[encoded data removed]",
      "text/plain": [
       "<Figure size 432x216 with 1 Axes>"
      ]
     },
     "metadata": {
      "tags": []
     },
     "output_type": "display_data"
    }
   ],
   "source": [
    "import matplotlib.pyplot as plt #Elbow method\n",
    "plt.figure(figsize=(6,3))\n",
    "plt.plot(list(range(1,21)),Sum_of_squared_distances,'bx-')\n",
    "plt.ylabel('Sum_of_squared_distances')\n",
    "plt.xlabel('# clusters')\n",
    "plt.show()\n",
    "#5 looks to be an appropriate number "
   ]
  },
  {
   "cell_type": "code",
   "execution_count": null,
   "metadata": {
    "id": "-WZT5eQw6Sar"
   },
   "outputs": [],
   "source": [
    "from sklearn.cluster import KMeans\n",
    "model = KMeans(n_clusters=5)\n",
    "model = model.fit(features)"
   ]
  },
  {
   "cell_type": "markdown",
   "metadata": {
    "id": "wOC6b1e5mNfq"
   },
   "source": [
    "# Clustering"
   ]
  },
  {
   "cell_type": "code",
   "execution_count": 64,
   "metadata": {
    "id": "fmVkKMB26Sa6"
   },
   "outputs": [],
   "source": [
    "predictions=model.predict(features) #make predictions"
   ]
  },
  {
   "cell_type": "code",
   "execution_count": 65,
   "metadata": {
    "colab": {
     "base_uri": "https://localhost:8080/",
     "height": 34
    },
    "id": "sO80sRzb6SbH",
    "outputId": "baa40a01-d179-4d5a-a120-23f65026c861"
   },
   "outputs": [
    {
     "data": {
      "text/plain": [
       "array([3, 3, 0, ..., 2, 1, 1], dtype=int32)"
      ]
     },
     "execution_count": 65,
     "metadata": {
      "tags": []
     },
     "output_type": "execute_result"
    }
   ],
   "source": [
    "predictions"
   ]
  },
  {
   "cell_type": "code",
   "execution_count": 66,
   "metadata": {
    "id": "rkZPjINl6Sbs"
   },
   "outputs": [],
   "source": [
    "df_all['cluster']=predictions"
   ]
  },
  {
   "cell_type": "code",
   "execution_count": 67,
   "metadata": {
    "colab": {
     "base_uri": "https://localhost:8080/",
     "height": 428
    },
    "id": "8m-OClx66Sb1",
    "outputId": "708cd9bd-4a52-4e7d-b126-471e81556899"
   },
   "outputs": [
    {
     "data": {
      "text/html": [
       "<div>\n",
       "<style scoped>\n",
       "    .dataframe tbody tr th:only-of-type {\n",
       "        vertical-align: middle;\n",
       "    }\n",
       "\n",
       "    .dataframe tbody tr th {\n",
       "        vertical-align: top;\n",
       "    }\n",
       "\n",
       "    .dataframe thead th {\n",
       "        text-align: right;\n",
       "    }\n",
       "</style>\n",
       "<table border=\"1\" class=\"dataframe\">\n",
       "  <thead>\n",
       "    <tr style=\"text-align: right;\">\n",
       "      <th></th>\n",
       "      <th>acousticness</th>\n",
       "      <th>artists</th>\n",
       "      <th>danceability</th>\n",
       "      <th>duration_ms</th>\n",
       "      <th>energy</th>\n",
       "      <th>explicit</th>\n",
       "      <th>id</th>\n",
       "      <th>instrumentalness</th>\n",
       "      <th>key</th>\n",
       "      <th>liveness</th>\n",
       "      <th>loudness</th>\n",
       "      <th>mode</th>\n",
       "      <th>name</th>\n",
       "      <th>popularity</th>\n",
       "      <th>release_date</th>\n",
       "      <th>speechiness</th>\n",
       "      <th>tempo</th>\n",
       "      <th>valence</th>\n",
       "      <th>year</th>\n",
       "      <th>cluster</th>\n",
       "    </tr>\n",
       "  </thead>\n",
       "  <tbody>\n",
       "    <tr>\n",
       "      <th>0</th>\n",
       "      <td>0.995</td>\n",
       "      <td>['Carl Woitschach']</td>\n",
       "      <td>0.708</td>\n",
       "      <td>158648</td>\n",
       "      <td>0.1950</td>\n",
       "      <td>0</td>\n",
       "      <td>6KbQ3uYMLKb5jDxLF7wYDD</td>\n",
       "      <td>0.563</td>\n",
       "      <td>10</td>\n",
       "      <td>0.1510</td>\n",
       "      <td>-12.428</td>\n",
       "      <td>1</td>\n",
       "      <td>Singende Bataillone 1. Teil</td>\n",
       "      <td>0</td>\n",
       "      <td>1928</td>\n",
       "      <td>0.0506</td>\n",
       "      <td>118.469</td>\n",
       "      <td>0.7790</td>\n",
       "      <td>1928</td>\n",
       "      <td>3</td>\n",
       "    </tr>\n",
       "    <tr>\n",
       "      <th>1</th>\n",
       "      <td>0.994</td>\n",
       "      <td>['Robert Schumann', 'Vladimir Horowitz']</td>\n",
       "      <td>0.379</td>\n",
       "      <td>282133</td>\n",
       "      <td>0.0135</td>\n",
       "      <td>0</td>\n",
       "      <td>6KuQTIu1KoTTkLXKrwlLPV</td>\n",
       "      <td>0.901</td>\n",
       "      <td>8</td>\n",
       "      <td>0.0763</td>\n",
       "      <td>-28.454</td>\n",
       "      <td>1</td>\n",
       "      <td>Fantasiestücke, Op. 111: Più tosto lento</td>\n",
       "      <td>0</td>\n",
       "      <td>1928</td>\n",
       "      <td>0.0462</td>\n",
       "      <td>83.972</td>\n",
       "      <td>0.0767</td>\n",
       "      <td>1928</td>\n",
       "      <td>3</td>\n",
       "    </tr>\n",
       "    <tr>\n",
       "      <th>2</th>\n",
       "      <td>0.604</td>\n",
       "      <td>['Seweryn Goszczyński']</td>\n",
       "      <td>0.749</td>\n",
       "      <td>104300</td>\n",
       "      <td>0.2200</td>\n",
       "      <td>0</td>\n",
       "      <td>6L63VW0PibdM1HDSBoqnoM</td>\n",
       "      <td>0.000</td>\n",
       "      <td>5</td>\n",
       "      <td>0.1190</td>\n",
       "      <td>-19.924</td>\n",
       "      <td>0</td>\n",
       "      <td>Chapter 1.18 - Zamek kaniowski</td>\n",
       "      <td>0</td>\n",
       "      <td>1928</td>\n",
       "      <td>0.9290</td>\n",
       "      <td>107.177</td>\n",
       "      <td>0.8800</td>\n",
       "      <td>1928</td>\n",
       "      <td>0</td>\n",
       "    </tr>\n",
       "    <tr>\n",
       "      <th>3</th>\n",
       "      <td>0.995</td>\n",
       "      <td>['Francisco Canaro']</td>\n",
       "      <td>0.781</td>\n",
       "      <td>180760</td>\n",
       "      <td>0.1300</td>\n",
       "      <td>0</td>\n",
       "      <td>6M94FkXd15sOAOQYRnWPN8</td>\n",
       "      <td>0.887</td>\n",
       "      <td>1</td>\n",
       "      <td>0.1110</td>\n",
       "      <td>-14.734</td>\n",
       "      <td>0</td>\n",
       "      <td>Bebamos Juntos - Instrumental (Remasterizado)</td>\n",
       "      <td>0</td>\n",
       "      <td>1928-09-25</td>\n",
       "      <td>0.0926</td>\n",
       "      <td>108.003</td>\n",
       "      <td>0.7200</td>\n",
       "      <td>1928</td>\n",
       "      <td>3</td>\n",
       "    </tr>\n",
       "    <tr>\n",
       "      <th>4</th>\n",
       "      <td>0.990</td>\n",
       "      <td>['Frédéric Chopin', 'Vladimir Horowitz']</td>\n",
       "      <td>0.210</td>\n",
       "      <td>687733</td>\n",
       "      <td>0.2040</td>\n",
       "      <td>0</td>\n",
       "      <td>6N6tiFZ9vLTSOIxkj8qKrd</td>\n",
       "      <td>0.908</td>\n",
       "      <td>11</td>\n",
       "      <td>0.0980</td>\n",
       "      <td>-16.829</td>\n",
       "      <td>1</td>\n",
       "      <td>Polonaise-Fantaisie in A-Flat Major, Op. 61</td>\n",
       "      <td>1</td>\n",
       "      <td>1928</td>\n",
       "      <td>0.0424</td>\n",
       "      <td>62.149</td>\n",
       "      <td>0.0693</td>\n",
       "      <td>1928</td>\n",
       "      <td>3</td>\n",
       "    </tr>\n",
       "  </tbody>\n",
       "</table>\n",
       "</div>"
      ],
      "text/plain": [
       "   acousticness                                   artists  ...  year  cluster\n",
       "0         0.995                       ['Carl Woitschach']  ...  1928        3\n",
       "1         0.994  ['Robert Schumann', 'Vladimir Horowitz']  ...  1928        3\n",
       "2         0.604                   ['Seweryn Goszczyński']  ...  1928        0\n",
       "3         0.995                      ['Francisco Canaro']  ...  1928        3\n",
       "4         0.990  ['Frédéric Chopin', 'Vladimir Horowitz']  ...  1928        3\n",
       "\n",
       "[5 rows x 20 columns]"
      ]
     },
     "execution_count": 67,
     "metadata": {
      "tags": []
     },
     "output_type": "execute_result"
    }
   ],
   "source": [
    "df_all.head()"
   ]
  },
  {
   "cell_type": "markdown",
   "metadata": {
    "id": "jeZwlVEdmUbk"
   },
   "source": [
    "## Visualization of the derived clusters"
   ]
  },
  {
   "cell_type": "code",
   "execution_count": 68,
   "metadata": {
    "id": "IHUGJ73D6Sb7"
   },
   "outputs": [],
   "source": [
    "from sklearn import decomposition\n",
    "pca=decomposition.PCA(n_components=2)"
   ]
  },
  {
   "cell_type": "code",
   "execution_count": 69,
   "metadata": {
    "id": "iPNcvRDq6ScB"
   },
   "outputs": [],
   "source": [
    "pca_result = pca.fit_transform(features)"
   ]
  },
  {
   "cell_type": "code",
   "execution_count": 70,
   "metadata": {
    "id": "mzWwRZK16ScH"
   },
   "outputs": [],
   "source": [
    "df=pd.DataFrame(pca_result)"
   ]
  },
  {
   "cell_type": "code",
   "execution_count": 71,
   "metadata": {
    "id": "LsbTmJS76ScM"
   },
   "outputs": [],
   "source": [
    "df['cluster']=predictions"
   ]
  },
  {
   "cell_type": "code",
   "execution_count": 86,
   "metadata": {
    "colab": {
     "base_uri": "https://localhost:8080/",
     "height": 283
    },
    "id": "dvjfryAe2tr0",
    "outputId": "61d64050-30ec-44f9-cc44-e934ac57acab"
   },
   "outputs": [
    {
     "data": {
      "image/png": "[encoded data removed]",
      "text/plain": [
       "<Figure size 432x288 with 2 Axes>"
      ]
     },
     "metadata": {
      "needs_background": "light",
      "tags": []
     },
     "output_type": "display_data"
    }
   ],
   "source": [
    "import matplotlib.pyplot as plt\n",
    "fig = plt.figure()\n",
    "ax = fig.add_subplot(111)\n",
    "\n",
    "scatter = ax.scatter(df.iloc[:,0].values, df.iloc[:,1].values,c=predictions,s=50)\n",
    "ax.set_xlabel('x')\n",
    "ax.set_ylabel('y')\n",
    "plt.colorbar(scatter)\n",
    "\n",
    "fig.show()"
   ]
  },
  {
   "cell_type": "markdown",
   "metadata": {
    "id": "WbjNZskkmdmv"
   },
   "source": [
    "# Selecting a classifier\n",
    "Let's determine the best model to use for future classification. It can be used to classify recommended songs by Spoitfy or to classify already saved songs.\n",
    "\n"
   ]
  },
  {
   "cell_type": "code",
   "execution_count": null,
   "metadata": {
    "id": "H_mfqQH2Y2F0"
   },
   "outputs": [],
   "source": [
    "df_classify=df_all[[\"acousticness\", \"danceability\", \"liveness\",\"energy\", \"instrumentalness\", \"loudness\", \"speechiness\",\"cluster\"]]#selecting features"
   ]
  },
  {
   "cell_type": "code",
   "execution_count": null,
   "metadata": {
    "id": "23WrWO7TZv0z"
   },
   "outputs": [],
   "source": [
    "X=df_classify.iloc[:,:-1].values\n",
    "Y=df_classify.iloc[:,-1].values"
   ]
  },
  {
   "cell_type": "markdown",
   "metadata": {
    "id": "LkwHngtInJDk"
   },
   "source": [
    "## Splitting the dataset into the Training set and Test set"
   ]
  },
  {
   "cell_type": "code",
   "execution_count": null,
   "metadata": {
    "id": "-ox93NmVaErx"
   },
   "outputs": [],
   "source": [
    "from sklearn.model_selection import train_test_split\n",
    "X_train, X_test, y_train, y_test=train_test_split(X,Y,test_size=0.2)"
   ]
  },
  {
   "cell_type": "code",
   "execution_count": null,
   "metadata": {
    "id": "jcl5sJxDbK4B"
   },
   "outputs": [],
   "source": [
    "X_train[:,5]=scaler.fit_transform(X_train[:,5].reshape(-1, 1)).reshape(-1,)\n",
    "X_test[:,5]=scaler.transform(X_test[:,5].reshape(-1, 1)).reshape(-1,)"
   ]
  },
  {
   "cell_type": "markdown",
   "metadata": {
    "id": "h82dA3wgngtT"
   },
   "source": [
    "## Selecting a classifier\n",
    "There are four models compared in terms of accuracy, which are KNeighborsClassifier,RandomForestClassifier, Support Vector Classifier and Naive Bayes. Support Vector Classifier tourned out to be the best model in terms of accuracy, which made up roughly 0.998, hence we will be using it for future classification."
   ]
  },
  {
   "cell_type": "code",
   "execution_count": null,
   "metadata": {
    "colab": {
     "base_uri": "https://localhost:8080/",
     "height": 153
    },
    "id": "Qr2_41LTbzr_",
    "outputId": "d27a7ca7-6d0a-48ee-9251-630958663185"
   },
   "outputs": [
    {
     "name": "stdout",
     "output_type": "stream",
     "text": [
      "2:0.9846977811782709\n",
      "3:0.9884644811959272\n",
      "4:0.9885527632275911\n",
      "5:0.9902595491730917\n",
      "6:0.9895238655758931\n",
      "7:0.9905243952680831\n",
      "8:0.9907598140191867\n",
      "9:0.991083514801954\n"
     ]
    }
   ],
   "source": [
    "from sklearn.neighbors import KNeighborsClassifier\n",
    "from sklearn.metrics import confusion_matrix, accuracy_score\n",
    "acc=[]\n",
    "for i in range(2,10):\n",
    "  classifier = KNeighborsClassifier(n_neighbors = i, metric = 'minkowski', p = 2)\n",
    "  classifier.fit(X_train, y_train)\n",
    "  y_pred = classifier.predict(X_test)\n",
    "  acc.append(accuracy_score(y_test, y_pred))\n",
    "  print(f'{i}:{acc[-1]}')"
   ]
  },
  {
   "cell_type": "code",
   "execution_count": null,
   "metadata": {
    "colab": {
     "base_uri": "https://localhost:8080/",
     "height": 170
    },
    "id": "rEk-qCWndu7h",
    "outputId": "183f2807-29b6-4ca7-c619-30848be5ff16"
   },
   "outputs": [
    {
     "name": "stdout",
     "output_type": "stream",
     "text": [
      "5:0.9929668648107822\n",
      "6:0.9928785827791183\n",
      "7:0.9938202577835324\n",
      "8:0.9938791124713083\n",
      "9:0.9941145312224119\n",
      "10:0.9940851038785239\n",
      "11:0.9943205226296274\n",
      "12:0.9940851038785239\n",
      "13:0.9945853687246189\n"
     ]
    }
   ],
   "source": [
    "from sklearn.ensemble import RandomForestClassifier\n",
    "acc=[]\n",
    "for i in range(5,14):\n",
    "  classifier = RandomForestClassifier(n_estimators = i, criterion = 'entropy', random_state = 0)\n",
    "  classifier.fit(X_train, y_train)\n",
    "  y_pred = classifier.predict(X_test)\n",
    "  acc.append(accuracy_score(y_test, y_pred))\n",
    "  print(f'{i}:{acc[-1]}')\n"
   ]
  },
  {
   "cell_type": "code",
   "execution_count": null,
   "metadata": {
    "colab": {
     "base_uri": "https://localhost:8080/",
     "height": 34
    },
    "id": "_Y11i5KgehCj",
    "outputId": "b3fce0c2-efba-4ced-f503-7b75af321f69"
   },
   "outputs": [
    {
     "name": "stdout",
     "output_type": "stream",
     "text": [
      "9:0.959831675592961\n"
     ]
    }
   ],
   "source": [
    "from sklearn.naive_bayes import GaussianNB\n",
    "acc=[]\n",
    "\n",
    "classifier = GaussianNB()\n",
    "classifier.fit(X_train, y_train)\n",
    "y_pred = classifier.predict(X_test)\n",
    "acc.append(accuracy_score(y_test, y_pred))\n",
    "print(f'{i}:{acc[-1]}')"
   ]
  },
  {
   "cell_type": "code",
   "execution_count": null,
   "metadata": {
    "colab": {
     "base_uri": "https://localhost:8080/",
     "height": 85
    },
    "id": "FbKb3Orzfemc",
    "outputId": "3911aa51-8ea9-4c6a-a639-f7af33eeedc5"
   },
   "outputs": [
    {
     "name": "stdout",
     "output_type": "stream",
     "text": [
      "linear:0.9982343593667236\n",
      "poly:0.9989111882761462\n",
      "rbf:0.998028367959508\n",
      "sigmoid:0.753428285562945\n"
     ]
    }
   ],
   "source": [
    "from sklearn.svm import SVC\n",
    "acc=[]\n",
    "for i in ['linear', 'poly', 'rbf', 'sigmoid']:\n",
    "  classifier = SVC(kernel = i, random_state = 0)\n",
    "  classifier.fit(X_train, y_train)\n",
    "  y_pred = classifier.predict(X_test)\n",
    "  acc.append(accuracy_score(y_test, y_pred))\n",
    "  print(f'{i}:{acc[-1]}')"
   ]
  },
  {
   "cell_type": "code",
   "execution_count": null,
   "metadata": {
    "id": "_jwS1hsgjlBV"
   },
   "outputs": [],
   "source": [
    "classifier = SVC(kernel ='poly', random_state = 0)\n",
    "classifier.fit(X_train, y_train)\n",
    "y_pred = classifier.predict(X_test)"
   ]
  },
  {
   "cell_type": "code",
   "execution_count": null,
   "metadata": {
    "colab": {
     "base_uri": "https://localhost:8080/",
     "height": 102
    },
    "id": "Dlcq-dRnkXab",
    "outputId": "a48a62ee-3455-49d4-fdf9-73fccca51c6e"
   },
   "outputs": [
    {
     "name": "stdout",
     "output_type": "stream",
     "text": [
      "[[  904     1     1     1     0]\n",
      " [    1 14998     2     0     0]\n",
      " [    0     5 11797     5     1]\n",
      " [    1     0     5  4639     4]\n",
      " [    0     7     0     3  1607]]\n"
     ]
    }
   ],
   "source": [
    "cm = confusion_matrix(y_test, y_pred)\n",
    "print(cm)"
   ]
  },
  {
   "cell_type": "code",
   "execution_count": null,
   "metadata": {
    "colab": {
     "base_uri": "https://localhost:8080/",
     "height": 436
    },
    "id": "tKx4NJR3kWXL",
    "outputId": "df63c575-9552-491b-837e-f27987ac49dc"
   },
   "outputs": [
    {
     "data": {
      "image/png": "[encoded data removed]",
      "text/plain": [
       "<Figure size 720x504 with 2 Axes>"
      ]
     },
     "metadata": {
      "tags": []
     },
     "output_type": "display_data"
    }
   ],
   "source": [
    "df_cm = pd.DataFrame(cm, range(5), range(5))\n",
    "plt.figure(figsize=(10,7))\n",
    "sns.set(font_scale=1.4) # for label size\n",
    "sns.heatmap(df_cm, annot=True, annot_kws={\"size\": 16}) # font size\n",
    "plt.show()"
   ]
  },
  {
   "cell_type": "markdown",
   "metadata": {
    "id": "RCbF0VsvonRZ"
   },
   "source": [
    "## Clusters' description\n",
    "Cluster 0 is tourned out to be very high in terms of speechiness since the mean value over all songs is 0.87. If the speechiness of a song is above 0.66, it is probably made of spoken words, a score between 0.33 and 0.66 is a song that may contain both music and words, and a score below 0.33 means the song does not have any speech. Moreover, it is low in instrumentalness but pretty high in danceability. I assume there are mostly rap songs.\n",
    "Cluster 1 is relatively high in danceability and energy but low in instrumentalness. I expect to see a lot of energetic songs there.\n",
    "Cluster 2 is very high in acousticness but low in instrumentalness and loudness. Moreover, it has quite high danceability magnitude. Therefore, I expect to see more calm, perhaps sad, songs. \n",
    "Cluster 3 is the highest in acousticness and instrumentalness but the lowest in speechiness.\n",
    "Cluster 4 is quite high in instrumentalness and energy and average in danceability."
   ]
  },
  {
   "cell_type": "code",
   "execution_count": null,
   "metadata": {
    "id": "wJHAdpmL6SdA"
   },
   "outputs": [],
   "source": [
    "df=df_all[[\"id\",\"acousticness\", \"danceability\", \"liveness\",\"energy\", \"instrumentalness\", \"loudness\", \"speechiness\",\"cluster\"]]"
   ]
  },
  {
   "cell_type": "code",
   "execution_count": null,
   "metadata": {
    "id": "mKZKhY3r6SdH"
   },
   "outputs": [],
   "source": [
    "cluster_info=[]\n",
    "for i in range(5):\n",
    "    cluster_info.append(df[df['cluster']==i].describe().iloc[1,:])"
   ]
  },
  {
   "cell_type": "code",
   "execution_count": null,
   "metadata": {
    "colab": {
     "base_uri": "https://localhost:8080/",
     "height": 714
    },
    "id": "vriJdA5h6SdN",
    "outputId": "c20171b9-313b-4b63-8a6a-d9c610b58208"
   },
   "outputs": [
    {
     "data": {
      "text/plain": [
       "[acousticness         0.492072\n",
       " danceability         0.670050\n",
       " liveness             0.334549\n",
       " energy               0.267797\n",
       " instrumentalness     0.004775\n",
       " loudness           -18.154219\n",
       " speechiness          0.873131\n",
       " cluster              0.000000\n",
       " Name: mean, dtype: float64, acousticness        0.150852\n",
       " danceability        0.592988\n",
       " liveness            0.207617\n",
       " energy              0.694864\n",
       " instrumentalness    0.015803\n",
       " loudness           -7.850433\n",
       " speechiness         0.085111\n",
       " cluster             1.000000\n",
       " Name: mean, dtype: float64, acousticness         0.800405\n",
       " danceability         0.511200\n",
       " liveness             0.203982\n",
       " energy               0.322321\n",
       " instrumentalness     0.030855\n",
       " loudness           -12.906170\n",
       " speechiness          0.064676\n",
       " cluster              2.000000\n",
       " Name: mean, dtype: float64, acousticness         0.929996\n",
       " danceability         0.418107\n",
       " liveness             0.178563\n",
       " energy               0.223253\n",
       " instrumentalness     0.815071\n",
       " loudness           -17.917947\n",
       " speechiness          0.060206\n",
       " cluster              3.000000\n",
       " Name: mean, dtype: float64, acousticness         0.155792\n",
       " danceability         0.497722\n",
       " liveness             0.228866\n",
       " energy               0.681480\n",
       " instrumentalness     0.708008\n",
       " loudness           -10.239909\n",
       " speechiness          0.061040\n",
       " cluster              4.000000\n",
       " Name: mean, dtype: float64]"
      ]
     },
     "execution_count": 220,
     "metadata": {
      "tags": []
     },
     "output_type": "execute_result"
    }
   ],
   "source": [
    "cluster_info"
   ]
  },
  {
   "cell_type": "markdown",
   "metadata": {
    "id": "TcijiUrmr1B7"
   },
   "source": [
    "# Predicting my saved songs on Spotify"
   ]
  },
  {
   "cell_type": "code",
   "execution_count": 10,
   "metadata": {
    "id": "Yreme4hi6SdT"
   },
   "outputs": [],
   "source": [
    "import spotipy\n",
    "from spotipy.oauth2 import SpotifyClientCredentials\n",
    "import spotipy.util as util"
   ]
  },
  {
   "cell_type": "code",
   "execution_count": 11,
   "metadata": {
    "id": "VQgBIRv76Sdb"
   },
   "outputs": [],
   "source": [
    "cid ='' # Client ID; copy this from your app \n",
    "secret = '' # Client Secret; copy this from your app\n",
    "username = '' # Your Spotify username\n",
    "\n",
    "#for avaliable scopes see https://developer.spotify.com/web-api/using-scopes/\n",
    "scope = 'user-library-read playlist-modify-public playlist-read-private user-top-read playlist-modify-private user-read-currently-playing'\n",
    "redirect_uri='",
    "\n",
    "client_credentials_manager = spotipy.oauth2.SpotifyOAuth(scope=scope, username=username,client_id=cid, client_secret=secret, redirect_uri=redirect_uri, cache_path='./tokens.txt') #SpotifyClientCredentials(client_id=cid, client_secret=secret)\n",
    "sp = spotipy.Spotify(client_credentials_manager=client_credentials_manager)\n"
   ]
  },
  {
   "cell_type": "code",
   "execution_count": 12,
   "metadata": {
    "id": "ohL0Pnyt6Sdh"
   },
   "outputs": [],
   "source": [
    "offset = 0\n",
    "songs = []\n",
    "names = []\n",
    "ids = []\n",
    "while True:\n",
    "    content = sp.current_user_saved_tracks(limit=50, offset=offset)\n",
    "    songs += content['items']\n",
    "    if content['next'] is not None:\n",
    "        offset += 100\n",
    "    else:\n",
    "        break\n",
    "for i in songs:\n",
    "    names.append(i['track']['name'])\n",
    "    ids.append(i['track']['id'])\n",
    "index=0\n",
    "audio_features=[]\n",
    "while index < len(ids):\n",
    "    audio_features += sp.audio_features(ids[index:index + 50])\n",
    "    index += 50\n",
    "features_list = []\n",
    "for features in audio_features:\n",
    "    features_list.append([features['acousticness'], features['danceability'],\n",
    "                          features['liveness'],features['energy'],\n",
    "                          features['instrumentalness'], features['loudness'],\n",
    "                          features['speechiness']])\n",
    "\n",
    "mydf = pd.DataFrame(features_list, columns=[\"acousticness\", \"danceability\", \"liveness\",\"energy\", \"instrumentalness\", \"loudness\", \"speechiness\"],index=ids)\n"
   ]
  },
  {
   "cell_type": "code",
   "execution_count": null,
   "metadata": {
    "id": "nE7PcrCr6Sdn",
    "outputId": "8fa36a16-83f4-477f-f896-97514b03ee2e"
   },
   "outputs": [
    {
     "data": {
      "text/html": [
       "<div>\n",
       "<style scoped>\n",
       "    .dataframe tbody tr th:only-of-type {\n",
       "        vertical-align: middle;\n",
       "    }\n",
       "\n",
       "    .dataframe tbody tr th {\n",
       "        vertical-align: top;\n",
       "    }\n",
       "\n",
       "    .dataframe thead th {\n",
       "        text-align: right;\n",
       "    }\n",
       "</style>\n",
       "<table border=\"1\" class=\"dataframe\">\n",
       "  <thead>\n",
       "    <tr style=\"text-align: right;\">\n",
       "      <th></th>\n",
       "      <th>acousticness</th>\n",
       "      <th>danceability</th>\n",
       "      <th>liveness</th>\n",
       "      <th>energy</th>\n",
       "      <th>instrumentalness</th>\n",
       "      <th>loudness</th>\n",
       "      <th>speechiness</th>\n",
       "    </tr>\n",
       "  </thead>\n",
       "  <tbody>\n",
       "    <tr>\n",
       "      <th>2bdCO4UTMX1ennK2I4rFpD</th>\n",
       "      <td>0.35600</td>\n",
       "      <td>0.690</td>\n",
       "      <td>0.3080</td>\n",
       "      <td>0.452</td>\n",
       "      <td>0.00000</td>\n",
       "      <td>-8.026</td>\n",
       "      <td>0.0472</td>\n",
       "    </tr>\n",
       "    <tr>\n",
       "      <th>2aPfFIwN3pZPRmCXMwFUqw</th>\n",
       "      <td>0.00462</td>\n",
       "      <td>0.557</td>\n",
       "      <td>0.2930</td>\n",
       "      <td>0.630</td>\n",
       "      <td>0.00000</td>\n",
       "      <td>-5.558</td>\n",
       "      <td>0.0348</td>\n",
       "    </tr>\n",
       "    <tr>\n",
       "      <th>7eLyNFj78bYlgVvamPPZ9p</th>\n",
       "      <td>0.69100</td>\n",
       "      <td>0.720</td>\n",
       "      <td>0.3800</td>\n",
       "      <td>0.611</td>\n",
       "      <td>0.00077</td>\n",
       "      <td>-9.869</td>\n",
       "      <td>0.1330</td>\n",
       "    </tr>\n",
       "    <tr>\n",
       "      <th>1tD8J13a74q8fBqXwAP50j</th>\n",
       "      <td>0.59500</td>\n",
       "      <td>0.766</td>\n",
       "      <td>0.3810</td>\n",
       "      <td>0.354</td>\n",
       "      <td>0.00000</td>\n",
       "      <td>-9.486</td>\n",
       "      <td>0.0543</td>\n",
       "    </tr>\n",
       "    <tr>\n",
       "      <th>3KkVd7Xg0jCAZSOatzQ6Td</th>\n",
       "      <td>0.74400</td>\n",
       "      <td>0.716</td>\n",
       "      <td>0.0929</td>\n",
       "      <td>0.388</td>\n",
       "      <td>0.00000</td>\n",
       "      <td>-8.433</td>\n",
       "      <td>0.0348</td>\n",
       "    </tr>\n",
       "  </tbody>\n",
       "</table>\n",
       "</div>"
      ],
      "text/plain": [
       "                        acousticness  danceability  liveness  energy  \\\n",
       "2bdCO4UTMX1ennK2I4rFpD       0.35600         0.690    0.3080   0.452   \n",
       "2aPfFIwN3pZPRmCXMwFUqw       0.00462         0.557    0.2930   0.630   \n",
       "7eLyNFj78bYlgVvamPPZ9p       0.69100         0.720    0.3800   0.611   \n",
       "1tD8J13a74q8fBqXwAP50j       0.59500         0.766    0.3810   0.354   \n",
       "3KkVd7Xg0jCAZSOatzQ6Td       0.74400         0.716    0.0929   0.388   \n",
       "\n",
       "                        instrumentalness  loudness  speechiness  \n",
       "2bdCO4UTMX1ennK2I4rFpD           0.00000    -8.026       0.0472  \n",
       "2aPfFIwN3pZPRmCXMwFUqw           0.00000    -5.558       0.0348  \n",
       "7eLyNFj78bYlgVvamPPZ9p           0.00077    -9.869       0.1330  \n",
       "1tD8J13a74q8fBqXwAP50j           0.00000    -9.486       0.0543  \n",
       "3KkVd7Xg0jCAZSOatzQ6Td           0.00000    -8.433       0.0348  "
      ]
     },
     "execution_count": 18,
     "metadata": {
      "tags": []
     },
     "output_type": "execute_result"
    }
   ],
   "source": [
    "mydf.head()"
   ]
  },
  {
   "cell_type": "markdown",
   "metadata": {
    "id": "rP10gByNr__n"
   },
   "source": [
    "## Preprocessing"
   ]
  },
  {
   "cell_type": "code",
   "execution_count": null,
   "metadata": {
    "id": "AKagewdM6Sd2"
   },
   "outputs": [],
   "source": [
    "loudness=mydf['loudness'].values\n",
    "loudness_scaled=scaler.fit_transform(loudness.reshape(-1,1))\n",
    "mydf['loudness']=loudness_scaled"
   ]
  },
  {
   "cell_type": "code",
   "execution_count": null,
   "metadata": {
    "id": "CoAdgx7D6SeF"
   },
   "outputs": [],
   "source": [
    "features=mydf.values"
   ]
  },
  {
   "cell_type": "markdown",
   "metadata": {
    "id": "JkAElAOXsGrO"
   },
   "source": [
    "## Classification"
   ]
  },
  {
   "cell_type": "code",
   "execution_count": null,
   "metadata": {
    "id": "sSC8oBlA6SeS"
   },
   "outputs": [],
   "source": [
    "predictions=classifier.predict(features)"
   ]
  },
  {
   "cell_type": "code",
   "execution_count": null,
   "metadata": {
    "id": "uhPpBY1k6Sea"
   },
   "outputs": [],
   "source": [
    "mydf['cluster']=predictions"
   ]
  },
  {
   "cell_type": "code",
   "execution_count": null,
   "metadata": {
    "id": "Vv_rHky1kQCY",
    "outputId": "dd7f2a41-14b2-45f9-927d-36c275289e45"
   },
   "outputs": [
    {
     "data": {
      "text/html": [
       "<div>\n",
       "<style scoped>\n",
       "    .dataframe tbody tr th:only-of-type {\n",
       "        vertical-align: middle;\n",
       "    }\n",
       "\n",
       "    .dataframe tbody tr th {\n",
       "        vertical-align: top;\n",
       "    }\n",
       "\n",
       "    .dataframe thead th {\n",
       "        text-align: right;\n",
       "    }\n",
       "</style>\n",
       "<table border=\"1\" class=\"dataframe\">\n",
       "  <thead>\n",
       "    <tr style=\"text-align: right;\">\n",
       "      <th></th>\n",
       "      <th>acousticness</th>\n",
       "      <th>danceability</th>\n",
       "      <th>liveness</th>\n",
       "      <th>energy</th>\n",
       "      <th>instrumentalness</th>\n",
       "      <th>loudness</th>\n",
       "      <th>speechiness</th>\n",
       "      <th>cluster</th>\n",
       "    </tr>\n",
       "    <tr>\n",
       "      <th>Unnamed: 0.1</th>\n",
       "      <th></th>\n",
       "      <th></th>\n",
       "      <th></th>\n",
       "      <th></th>\n",
       "      <th></th>\n",
       "      <th></th>\n",
       "      <th></th>\n",
       "      <th></th>\n",
       "    </tr>\n",
       "  </thead>\n",
       "  <tbody>\n",
       "    <tr>\n",
       "      <th>2bdCO4UTMX1ennK2I4rFpD</th>\n",
       "      <td>0.35600</td>\n",
       "      <td>0.690</td>\n",
       "      <td>0.3080</td>\n",
       "      <td>0.452</td>\n",
       "      <td>0.00000</td>\n",
       "      <td>0.671378</td>\n",
       "      <td>0.0472</td>\n",
       "      <td>1</td>\n",
       "    </tr>\n",
       "    <tr>\n",
       "      <th>2aPfFIwN3pZPRmCXMwFUqw</th>\n",
       "      <td>0.00462</td>\n",
       "      <td>0.557</td>\n",
       "      <td>0.2930</td>\n",
       "      <td>0.630</td>\n",
       "      <td>0.00000</td>\n",
       "      <td>0.790020</td>\n",
       "      <td>0.0348</td>\n",
       "      <td>1</td>\n",
       "    </tr>\n",
       "    <tr>\n",
       "      <th>7eLyNFj78bYlgVvamPPZ9p</th>\n",
       "      <td>0.69100</td>\n",
       "      <td>0.720</td>\n",
       "      <td>0.3800</td>\n",
       "      <td>0.611</td>\n",
       "      <td>0.00077</td>\n",
       "      <td>0.582781</td>\n",
       "      <td>0.1330</td>\n",
       "      <td>2</td>\n",
       "    </tr>\n",
       "    <tr>\n",
       "      <th>1tD8J13a74q8fBqXwAP50j</th>\n",
       "      <td>0.59500</td>\n",
       "      <td>0.766</td>\n",
       "      <td>0.3810</td>\n",
       "      <td>0.354</td>\n",
       "      <td>0.00000</td>\n",
       "      <td>0.601192</td>\n",
       "      <td>0.0543</td>\n",
       "      <td>2</td>\n",
       "    </tr>\n",
       "    <tr>\n",
       "      <th>3KkVd7Xg0jCAZSOatzQ6Td</th>\n",
       "      <td>0.74400</td>\n",
       "      <td>0.716</td>\n",
       "      <td>0.0929</td>\n",
       "      <td>0.388</td>\n",
       "      <td>0.00000</td>\n",
       "      <td>0.651812</td>\n",
       "      <td>0.0348</td>\n",
       "      <td>2</td>\n",
       "    </tr>\n",
       "  </tbody>\n",
       "</table>\n",
       "</div>"
      ],
      "text/plain": [
       "                        acousticness  danceability  liveness  energy  \\\n",
       "Unnamed: 0.1                                                           \n",
       "2bdCO4UTMX1ennK2I4rFpD       0.35600         0.690    0.3080   0.452   \n",
       "2aPfFIwN3pZPRmCXMwFUqw       0.00462         0.557    0.2930   0.630   \n",
       "7eLyNFj78bYlgVvamPPZ9p       0.69100         0.720    0.3800   0.611   \n",
       "1tD8J13a74q8fBqXwAP50j       0.59500         0.766    0.3810   0.354   \n",
       "3KkVd7Xg0jCAZSOatzQ6Td       0.74400         0.716    0.0929   0.388   \n",
       "\n",
       "                        instrumentalness  loudness  speechiness  cluster  \n",
       "Unnamed: 0.1                                                              \n",
       "2bdCO4UTMX1ennK2I4rFpD           0.00000  0.671378       0.0472        1  \n",
       "2aPfFIwN3pZPRmCXMwFUqw           0.00000  0.790020       0.0348        1  \n",
       "7eLyNFj78bYlgVvamPPZ9p           0.00077  0.582781       0.1330        2  \n",
       "1tD8J13a74q8fBqXwAP50j           0.00000  0.601192       0.0543        2  \n",
       "3KkVd7Xg0jCAZSOatzQ6Td           0.00000  0.651812       0.0348        2  "
      ]
     },
     "execution_count": 34,
     "metadata": {
      "tags": []
     },
     "output_type": "execute_result"
    }
   ],
   "source": [
    "mydf.head()"
   ]
  },
  {
   "cell_type": "markdown",
   "metadata": {
    "id": "8wQOL_9EspHM"
   },
   "source": [
    "## Sorting my saved songs into separate playlists\n",
    "I am going to sort my saved songs by the derived clusters"
   ]
  },
  {
   "cell_type": "code",
   "execution_count": null,
   "metadata": {
    "id": "PseU9Fyd6SgH"
   },
   "outputs": [],
   "source": [
    "moods=['rap','energetic/dancing','calm/romantic','studying/thinking','chill'] #I listened to the songs and generalized them by naming the clusters. "
   ]
  },
  {
   "cell_type": "code",
   "execution_count": null,
   "metadata": {
    "id": "OFXukwcmkQCb"
   },
   "outputs": [],
   "source": [
    "clustered_songs=list(zip(mydf.index,mydf.iloc[:,-1]))"
   ]
  },
  {
   "cell_type": "code",
   "execution_count": null,
   "metadata": {
    "id": "ELqFKaS5kQCd"
   },
   "outputs": [],
   "source": [
    "sorted_songs=[[],[],[],[],[]]\n",
    "for i in range(len(clustered_songs)):\n",
    "    sorted_songs[clustered_songs[i][1]].append(clustered_songs[i][0])"
   ]
  },
  {
   "cell_type": "code",
   "execution_count": null,
   "metadata": {
    "id": "rh8ZleKYkQCh"
   },
   "outputs": [],
   "source": [
    "playlists=[]\n",
    "for i in range(5):\n",
    "    playlist_created=sp.user_playlist_create(username, name=\"Cluster \"+str(i), public=False,description='')#create playlists for a corresponding cluster\n",
    "    sp.user_playlist_add_tracks(username,playlist_created['id'],sorted_songs[i][:100]) #add new songs\n",
    "    playlists.append(playlist_created)"
   ]
  },
  {
   "cell_type": "code",
   "execution_count": null,
   "metadata": {
    "id": "7QnsLIJc6Seg"
   },
   "outputs": [],
   "source": [
    "len_clusters=[]\n",
    "for i in range(5):\n",
    "    len_clusters.append(len(mydf[mydf['cluster']==i].values))"
   ]
  },
  {
   "cell_type": "markdown",
   "metadata": {
    "id": "U3U3q2UYtHFQ"
   },
   "source": [
    "## Description of my saved songs\n",
    "I concluded that the vast majority of my saved songs are energetic meaning that they are high in danceability and energy. I also like calm/romantic songs from time to time."
   ]
  },
  {
   "cell_type": "code",
   "execution_count": 19,
   "metadata": {},
   "outputs": [
    {
     "data": {
      "text/plain": [
       "<matplotlib.legend.Legend at 0x2939d1445e0>"
      ]
     },
     "execution_count": 19,
     "metadata": {},
     "output_type": "execute_result"
    },
    {
     "data": {
      "image/png": "[encoded data removed]",
      "text/plain": [
       "<Figure size 1296x1296 with 1 Axes>"
      ]
     },
     "metadata": {},
     "output_type": "display_data"
    }
   ],
   "source": [
    "import seaborn as sns\n",
    "import matplotlib.pyplot as plt\n",
    "labels= [\"acousticness\", \"danceability\", \"liveness\",\"energy\", \"instrumentalness\", \"speechiness\"]\n",
    "stats= mydf[ [\"acousticness\", \"danceability\", \"liveness\",\"energy\", \"instrumentalness\", \"speechiness\"]].mean().tolist()\n",
    "\n",
    "angles=np.linspace(0, 2*np.pi, len(labels), endpoint=False)\n",
    "\n",
    "# close the plot\n",
    "stats=np.concatenate((stats,[stats[0]]))\n",
    "angles=np.concatenate((angles,[angles[0]]))\n",
    "\n",
    "#Size of the figure\n",
    "fig=plt.figure(figsize = (18,18))\n",
    "\n",
    "ax = fig.add_subplot(221, polar=True)\n",
    "ax.plot(angles, stats, 'o-', linewidth=2, label = \"Chingis\", color= 'purple')\n",
    "ax.fill(angles, stats, alpha=0.25, facecolor='m')\n",
    "ax.set_thetagrids(angles * 180/np.pi, labels , fontsize = 13)\n",
    "\n",
    "\n",
    "ax.set_rlabel_position(250)\n",
    "plt.yticks([0.2 , 0.4 , 0.6 , 0.8  ], [\"0.2\",'0.4', \"0.6\", \"0.8\"], color=\"grey\", size=12)\n",
    "plt.ylim(0,1)\n",
    "\n",
    "ax.set_title('Mean Values of the audio features')\n",
    "ax.grid(True)\n",
    "\n",
    "plt.legend(loc='best', bbox_to_anchor=(0.1, 0.1))"
   ]
  },
  {
   "cell_type": "code",
   "execution_count": 24,
   "metadata": {},
   "outputs": [
    {
     "data": {
      "image/png": "[encoded data removed]",
      "text/plain": [
       "<Figure size 576x576 with 1 Axes>"
      ]
     },
     "metadata": {},
     "output_type": "display_data"
    }
   ],
   "source": [
    "from matplotlib import style\n",
    "# Number of features\n",
    "N = len(mydf[ [\"acousticness\", \"danceability\", \"liveness\",\"energy\", \"instrumentalness\", \"speechiness\"]].mean())\n",
    "# Array with the number of features\n",
    "ind = np.arange(N) \n",
    "\n",
    "width = 0.35  \n",
    "#Bar plot with my list\n",
    "plt.barh(ind, mydf[ [\"acousticness\", \"danceability\", \"liveness\",\"energy\", \"instrumentalness\", \"speechiness\"]].mean() , width, label='Chingis', color = 'purple')\n",
    "\n",
    "\n",
    "#X- label\n",
    "plt.xlabel('Mean', fontsize = 12)\n",
    "# Title\n",
    "plt.title('Mean values of the audio features')\n",
    "\n",
    "#legend\n",
    "plt.legend(loc='best')\n",
    "# Figure size\n",
    "plt.rcParams['figure.figsize'] =(8,8)\n",
    "# Set style\n",
    "style.use(\"ggplot\")\n",
    "\n",
    "plt.show()"
   ]
  },
  {
   "cell_type": "code",
   "execution_count": null,
   "metadata": {
    "id": "I7GDdfnJ6Sfn",
    "outputId": "a1d6340b-8342-4fd3-d011-daf8bba29b33"
   },
   "outputs": [
    {
     "name": "stdout",
     "output_type": "stream",
     "text": [
      "my saved songs:\n",
      "rap 0.006666666666666667\n",
      "energetic/dancing 0.8\n",
      "calm/romantic 0.18444444444444444\n",
      "studying/thinking 0.006666666666666667\n",
      "chill 0.0022222222222222222\n"
     ]
    }
   ],
   "source": [
    "print('my saved songs:')\n",
    "pers=[]\n",
    "for i in range(5):\n",
    "    pers.append(float(len_clusters[i]/sum(len_clusters)))\n",
    "    print(moods[i],float(len_clusters[i]/sum(len_clusters)))"
   ]
  },
  {
   "cell_type": "code",
   "execution_count": null,
   "metadata": {
    "id": "g4j1FANi6Sf0",
    "outputId": "1af5307e-f6ff-4e0d-ab32-c2f0074b3a61"
   },
   "outputs": [
    {
     "data": {
      "image/png": "[encoded data removed]",
      "text/plain": [
       "<Figure size 432x288 with 1 Axes>"
      ]
     },
     "metadata": {
      "tags": []
     },
     "output_type": "display_data"
    }
   ],
   "source": [
    "# import the pyplot library\n",
    "\n",
    "import matplotlib.pyplot as plotter\n",
    "\n",
    "\n",
    "\n",
    " \n",
    "\n",
    "figureObject, axesObject = plotter.subplots()\n",
    "\n",
    " \n",
    "\n",
    "# Draw the pie chart\n",
    "\n",
    "axesObject.pie(pers,\n",
    "\n",
    "        labels=moods,\n",
    "\n",
    "        autopct='%1.2f',\n",
    "\n",
    "        startangle=90)\n",
    "\n",
    " \n",
    "\n",
    "# Aspect ratio - equal means pie is a circle\n",
    "\n",
    "axesObject.axis('equal')\n",
    "\n",
    " \n",
    "\n",
    "plotter.show()"
   ]
  },
  {
   "cell_type": "markdown",
   "metadata": {
    "id": "JcUusAGIttKA"
   },
   "source": [
    "# Adding new recommened songs into our cluster playlists"
   ]
  },
  {
   "cell_type": "code",
   "execution_count": null,
   "metadata": {
    "id": "CBdnWpU06Sg_",
    "outputId": "ab367787-6b77-48eb-fbc7-0d069e9310c7"
   },
   "outputs": [
    {
     "data": {
      "text/plain": [
       "Index(['7K7bl9synB5gWg6OAkcBpf', '4GFpId1SnvPZn8ER4VflPL',\n",
       "       '4jwP0pxx7su04FYc6J12EQ', '1db6ixe9nX6cqt2V1DYZnW',\n",
       "       '5pU3LVebfaEf8m2buAfYBH', '4fRLdKddgF9HlNqOqLAUWl',\n",
       "       '1SWg0LGSxwbD3pyLfW0z5H', '5BqUbKq9rCMrCkRtAiz8XA',\n",
       "       '3Dv1eDb0MEgF93GpLXlucZ', '4PMLEEYw4mblYsPlDSHKyu',\n",
       "       ...\n",
       "       '37vg1lxQrG6D1jBTaFXRCQ', '5icLWG7MsuPERX5TucJtRr',\n",
       "       '4048HzIyYNMwfCMRsUW0HZ', '0I3q5fE6wg7LIfHGngUTnV',\n",
       "       '6Gy7rXB6Ku5vIWC7WGWsl3', '79OEIr4J4FHV0O3KrhaXRb',\n",
       "       '6bP5IB7UNNJMpGvMGO28qK', '3808TY2N8RQG8OcRCHoZvD',\n",
       "       '1faIb3PPSzEifCHUOJ691R', '2j7mcsEz4n5XxMMqqjjB6p'],\n",
       "      dtype='object', length=450)"
      ]
     },
     "execution_count": 125,
     "metadata": {
      "tags": []
     },
     "output_type": "execute_result"
    }
   ],
   "source": [
    "mydf.index"
   ]
  },
  {
   "cell_type": "code",
   "execution_count": null,
   "metadata": {
    "id": "51RShY4O6ShD"
   },
   "outputs": [],
   "source": [
    "rec_tracks = []\n",
    "for i in mydf.index.tolist():\n",
    "    rec_tracks += sp.recommendations(seed_tracks=[i], limit=5)['tracks'] #get recommendations from Spotify\n",
    "\n",
    "rec_track_ids = []\n",
    "rec_track_names = []\n",
    "for i in rec_tracks:\n",
    "    rec_track_ids.append(i['id']) #extract id and name of songs\n",
    "    rec_track_names.append(i['name'])\n",
    "\n",
    "rec_features = []\n",
    "for i in range(0,len(rec_track_ids)):\n",
    "    rec_audio_features = sp.audio_features(rec_track_ids[i]) #extract features\n",
    "    for track in rec_audio_features:\n",
    "        rec_features.append(track)\n",
    "        \n",
    "rec_playlist_df = pd.DataFrame(rec_features, index = rec_track_ids) #make a dataframe "
   ]
  },
  {
   "cell_type": "code",
   "execution_count": null,
   "metadata": {
    "id": "KNFHxjX96ShI",
    "outputId": "c94ae94b-577c-4d71-89bb-1c3403089e70"
   },
   "outputs": [
    {
     "data": {
      "text/html": [
       "<div>\n",
       "<style scoped>\n",
       "    .dataframe tbody tr th:only-of-type {\n",
       "        vertical-align: middle;\n",
       "    }\n",
       "\n",
       "    .dataframe tbody tr th {\n",
       "        vertical-align: top;\n",
       "    }\n",
       "\n",
       "    .dataframe thead th {\n",
       "        text-align: right;\n",
       "    }\n",
       "</style>\n",
       "<table border=\"1\" class=\"dataframe\">\n",
       "  <thead>\n",
       "    <tr style=\"text-align: right;\">\n",
       "      <th></th>\n",
       "      <th>acousticness</th>\n",
       "      <th>danceability</th>\n",
       "      <th>liveness</th>\n",
       "      <th>energy</th>\n",
       "      <th>instrumentalness</th>\n",
       "      <th>loudness</th>\n",
       "      <th>speechiness</th>\n",
       "    </tr>\n",
       "  </thead>\n",
       "  <tbody>\n",
       "    <tr>\n",
       "      <th>7L5lSrY4QYAwvaqeIXSayN</th>\n",
       "      <td>0.382</td>\n",
       "      <td>0.403</td>\n",
       "      <td>0.1480</td>\n",
       "      <td>0.356</td>\n",
       "      <td>0.00000</td>\n",
       "      <td>0.697715</td>\n",
       "      <td>0.0298</td>\n",
       "    </tr>\n",
       "    <tr>\n",
       "      <th>43ssW9UUnfn0llEYn8wZXq</th>\n",
       "      <td>0.636</td>\n",
       "      <td>0.494</td>\n",
       "      <td>0.1060</td>\n",
       "      <td>0.433</td>\n",
       "      <td>0.00000</td>\n",
       "      <td>0.641972</td>\n",
       "      <td>0.3840</td>\n",
       "    </tr>\n",
       "    <tr>\n",
       "      <th>22AJMMJMaQ3qtTwlegrKcm</th>\n",
       "      <td>0.811</td>\n",
       "      <td>0.492</td>\n",
       "      <td>0.1360</td>\n",
       "      <td>0.378</td>\n",
       "      <td>0.00000</td>\n",
       "      <td>0.717093</td>\n",
       "      <td>0.0304</td>\n",
       "    </tr>\n",
       "    <tr>\n",
       "      <th>7FjKU2mfpEpvKIbx8naZRk</th>\n",
       "      <td>0.723</td>\n",
       "      <td>0.471</td>\n",
       "      <td>0.0964</td>\n",
       "      <td>0.474</td>\n",
       "      <td>0.00000</td>\n",
       "      <td>0.751431</td>\n",
       "      <td>0.0382</td>\n",
       "    </tr>\n",
       "    <tr>\n",
       "      <th>5zT5cMnMKoyruPj13TQXGx</th>\n",
       "      <td>0.862</td>\n",
       "      <td>0.389</td>\n",
       "      <td>0.1040</td>\n",
       "      <td>0.302</td>\n",
       "      <td>0.00567</td>\n",
       "      <td>0.475193</td>\n",
       "      <td>0.0438</td>\n",
       "    </tr>\n",
       "  </tbody>\n",
       "</table>\n",
       "</div>"
      ],
      "text/plain": [
       "                        acousticness  danceability  liveness  energy  \\\n",
       "7L5lSrY4QYAwvaqeIXSayN         0.382         0.403    0.1480   0.356   \n",
       "43ssW9UUnfn0llEYn8wZXq         0.636         0.494    0.1060   0.433   \n",
       "22AJMMJMaQ3qtTwlegrKcm         0.811         0.492    0.1360   0.378   \n",
       "7FjKU2mfpEpvKIbx8naZRk         0.723         0.471    0.0964   0.474   \n",
       "5zT5cMnMKoyruPj13TQXGx         0.862         0.389    0.1040   0.302   \n",
       "\n",
       "                        instrumentalness  loudness  speechiness  \n",
       "7L5lSrY4QYAwvaqeIXSayN           0.00000  0.697715       0.0298  \n",
       "43ssW9UUnfn0llEYn8wZXq           0.00000  0.641972       0.3840  \n",
       "22AJMMJMaQ3qtTwlegrKcm           0.00000  0.717093       0.0304  \n",
       "7FjKU2mfpEpvKIbx8naZRk           0.00000  0.751431       0.0382  \n",
       "5zT5cMnMKoyruPj13TQXGx           0.00567  0.475193       0.0438  "
      ]
     },
     "execution_count": 50,
     "metadata": {
      "tags": []
     },
     "output_type": "execute_result"
    }
   ],
   "source": [
    "rec_playlist_df.head()"
   ]
  },
  {
   "cell_type": "markdown",
   "metadata": {
    "id": "vt3qLkUkt1jW"
   },
   "source": [
    "## Preprocessing"
   ]
  },
  {
   "cell_type": "code",
   "execution_count": null,
   "metadata": {
    "id": "bM0w9uHw6ShM"
   },
   "outputs": [],
   "source": [
    "loudness=rec_playlist_df['loudness'].values\n",
    "loudness_scaled=scaler.fit_transform(loudness.reshape(-1,1))\n",
    "rec_playlist_df['loudness']=loudness_scaled"
   ]
  },
  {
   "cell_type": "code",
   "execution_count": null,
   "metadata": {
    "id": "LJyyNATR6ShS"
   },
   "outputs": [],
   "source": [
    "X=rec_playlist_df[[\"acousticness\", \"danceability\", \"liveness\",\"energy\", \"instrumentalness\", \"loudness\", \"speechiness\"]].values"
   ]
  },
  {
   "cell_type": "markdown",
   "metadata": {
    "id": "76oFdbtiuE9R"
   },
   "source": [
    "## Classification"
   ]
  },
  {
   "cell_type": "code",
   "execution_count": null,
   "metadata": {
    "id": "xbLYQi706ShV"
   },
   "outputs": [],
   "source": [
    "clusters=classifier.predict(X)"
   ]
  },
  {
   "cell_type": "code",
   "execution_count": null,
   "metadata": {
    "id": "499yFauv6ShY"
   },
   "outputs": [],
   "source": [
    "rec_playlist_df['cluster']=df.iloc[:,-1].values"
   ]
  },
  {
   "cell_type": "code",
   "execution_count": null,
   "metadata": {
    "id": "QVTx0HPukQDA",
    "outputId": "3ab2959a-9d65-45f9-88eb-64bc1b9154fc"
   },
   "outputs": [
    {
     "data": {
      "text/html": [
       "<div>\n",
       "<style scoped>\n",
       "    .dataframe tbody tr th:only-of-type {\n",
       "        vertical-align: middle;\n",
       "    }\n",
       "\n",
       "    .dataframe tbody tr th {\n",
       "        vertical-align: top;\n",
       "    }\n",
       "\n",
       "    .dataframe thead th {\n",
       "        text-align: right;\n",
       "    }\n",
       "</style>\n",
       "<table border=\"1\" class=\"dataframe\">\n",
       "  <thead>\n",
       "    <tr style=\"text-align: right;\">\n",
       "      <th></th>\n",
       "      <th>acousticness</th>\n",
       "      <th>danceability</th>\n",
       "      <th>liveness</th>\n",
       "      <th>energy</th>\n",
       "      <th>instrumentalness</th>\n",
       "      <th>loudness</th>\n",
       "      <th>speechiness</th>\n",
       "      <th>cluster</th>\n",
       "    </tr>\n",
       "  </thead>\n",
       "  <tbody>\n",
       "    <tr>\n",
       "      <th>7L5lSrY4QYAwvaqeIXSayN</th>\n",
       "      <td>0.3820</td>\n",
       "      <td>0.403</td>\n",
       "      <td>0.1480</td>\n",
       "      <td>0.356</td>\n",
       "      <td>0.00000</td>\n",
       "      <td>0.697715</td>\n",
       "      <td>0.0298</td>\n",
       "      <td>2</td>\n",
       "    </tr>\n",
       "    <tr>\n",
       "      <th>43ssW9UUnfn0llEYn8wZXq</th>\n",
       "      <td>0.6360</td>\n",
       "      <td>0.494</td>\n",
       "      <td>0.1060</td>\n",
       "      <td>0.433</td>\n",
       "      <td>0.00000</td>\n",
       "      <td>0.641972</td>\n",
       "      <td>0.3840</td>\n",
       "      <td>2</td>\n",
       "    </tr>\n",
       "    <tr>\n",
       "      <th>22AJMMJMaQ3qtTwlegrKcm</th>\n",
       "      <td>0.8110</td>\n",
       "      <td>0.492</td>\n",
       "      <td>0.1360</td>\n",
       "      <td>0.378</td>\n",
       "      <td>0.00000</td>\n",
       "      <td>0.717093</td>\n",
       "      <td>0.0304</td>\n",
       "      <td>2</td>\n",
       "    </tr>\n",
       "    <tr>\n",
       "      <th>7FjKU2mfpEpvKIbx8naZRk</th>\n",
       "      <td>0.7230</td>\n",
       "      <td>0.471</td>\n",
       "      <td>0.0964</td>\n",
       "      <td>0.474</td>\n",
       "      <td>0.00000</td>\n",
       "      <td>0.751431</td>\n",
       "      <td>0.0382</td>\n",
       "      <td>2</td>\n",
       "    </tr>\n",
       "    <tr>\n",
       "      <th>5zT5cMnMKoyruPj13TQXGx</th>\n",
       "      <td>0.8620</td>\n",
       "      <td>0.389</td>\n",
       "      <td>0.1040</td>\n",
       "      <td>0.302</td>\n",
       "      <td>0.00567</td>\n",
       "      <td>0.475193</td>\n",
       "      <td>0.0438</td>\n",
       "      <td>2</td>\n",
       "    </tr>\n",
       "    <tr>\n",
       "      <th>...</th>\n",
       "      <td>...</td>\n",
       "      <td>...</td>\n",
       "      <td>...</td>\n",
       "      <td>...</td>\n",
       "      <td>...</td>\n",
       "      <td>...</td>\n",
       "      <td>...</td>\n",
       "      <td>...</td>\n",
       "    </tr>\n",
       "    <tr>\n",
       "      <th>73Ijn0pKw1YJVP4OO4jUl7</th>\n",
       "      <td>0.1290</td>\n",
       "      <td>0.745</td>\n",
       "      <td>0.0811</td>\n",
       "      <td>0.525</td>\n",
       "      <td>0.00000</td>\n",
       "      <td>0.698391</td>\n",
       "      <td>0.2390</td>\n",
       "      <td>1</td>\n",
       "    </tr>\n",
       "    <tr>\n",
       "      <th>48PGeEeCqI5QZlUS9x4X6u</th>\n",
       "      <td>0.0672</td>\n",
       "      <td>0.730</td>\n",
       "      <td>0.3530</td>\n",
       "      <td>0.746</td>\n",
       "      <td>0.00000</td>\n",
       "      <td>0.878735</td>\n",
       "      <td>0.0517</td>\n",
       "      <td>1</td>\n",
       "    </tr>\n",
       "    <tr>\n",
       "      <th>1Jm1I3APcmVz3MqPr5vfTx</th>\n",
       "      <td>0.2010</td>\n",
       "      <td>0.681</td>\n",
       "      <td>0.1840</td>\n",
       "      <td>0.529</td>\n",
       "      <td>0.00000</td>\n",
       "      <td>0.681943</td>\n",
       "      <td>0.0341</td>\n",
       "      <td>1</td>\n",
       "    </tr>\n",
       "    <tr>\n",
       "      <th>3Osd3Yf8K73aj4ySn6LrvK</th>\n",
       "      <td>0.2460</td>\n",
       "      <td>0.654</td>\n",
       "      <td>0.1670</td>\n",
       "      <td>0.750</td>\n",
       "      <td>0.01780</td>\n",
       "      <td>0.699428</td>\n",
       "      <td>0.1050</td>\n",
       "      <td>1</td>\n",
       "    </tr>\n",
       "    <tr>\n",
       "      <th>6iGbUST3l2xFB3B8aK8wwW</th>\n",
       "      <td>0.2000</td>\n",
       "      <td>0.837</td>\n",
       "      <td>0.0914</td>\n",
       "      <td>0.834</td>\n",
       "      <td>0.00000</td>\n",
       "      <td>0.863188</td>\n",
       "      <td>0.2480</td>\n",
       "      <td>1</td>\n",
       "    </tr>\n",
       "  </tbody>\n",
       "</table>\n",
       "<p>2220 rows × 8 columns</p>\n",
       "</div>"
      ],
      "text/plain": [
       "                        acousticness  danceability  liveness  energy  \\\n",
       "7L5lSrY4QYAwvaqeIXSayN        0.3820         0.403    0.1480   0.356   \n",
       "43ssW9UUnfn0llEYn8wZXq        0.6360         0.494    0.1060   0.433   \n",
       "22AJMMJMaQ3qtTwlegrKcm        0.8110         0.492    0.1360   0.378   \n",
       "7FjKU2mfpEpvKIbx8naZRk        0.7230         0.471    0.0964   0.474   \n",
       "5zT5cMnMKoyruPj13TQXGx        0.8620         0.389    0.1040   0.302   \n",
       "...                              ...           ...       ...     ...   \n",
       "73Ijn0pKw1YJVP4OO4jUl7        0.1290         0.745    0.0811   0.525   \n",
       "48PGeEeCqI5QZlUS9x4X6u        0.0672         0.730    0.3530   0.746   \n",
       "1Jm1I3APcmVz3MqPr5vfTx        0.2010         0.681    0.1840   0.529   \n",
       "3Osd3Yf8K73aj4ySn6LrvK        0.2460         0.654    0.1670   0.750   \n",
       "6iGbUST3l2xFB3B8aK8wwW        0.2000         0.837    0.0914   0.834   \n",
       "\n",
       "                        instrumentalness  loudness  speechiness  cluster  \n",
       "7L5lSrY4QYAwvaqeIXSayN           0.00000  0.697715       0.0298        2  \n",
       "43ssW9UUnfn0llEYn8wZXq           0.00000  0.641972       0.3840        2  \n",
       "22AJMMJMaQ3qtTwlegrKcm           0.00000  0.717093       0.0304        2  \n",
       "7FjKU2mfpEpvKIbx8naZRk           0.00000  0.751431       0.0382        2  \n",
       "5zT5cMnMKoyruPj13TQXGx           0.00567  0.475193       0.0438        2  \n",
       "...                                  ...       ...          ...      ...  \n",
       "73Ijn0pKw1YJVP4OO4jUl7           0.00000  0.698391       0.2390        1  \n",
       "48PGeEeCqI5QZlUS9x4X6u           0.00000  0.878735       0.0517        1  \n",
       "1Jm1I3APcmVz3MqPr5vfTx           0.00000  0.681943       0.0341        1  \n",
       "3Osd3Yf8K73aj4ySn6LrvK           0.01780  0.699428       0.1050        1  \n",
       "6iGbUST3l2xFB3B8aK8wwW           0.00000  0.863188       0.2480        1  \n",
       "\n",
       "[2220 rows x 8 columns]"
      ]
     },
     "execution_count": 64,
     "metadata": {
      "tags": []
     },
     "output_type": "execute_result"
    }
   ],
   "source": [
    "rec_playlist_df"
   ]
  },
  {
   "cell_type": "markdown",
   "metadata": {
    "id": "t7q0htVaudSE"
   },
   "source": [
    "## Updating our playlists by adding the classified songs"
   ]
  },
  {
   "cell_type": "code",
   "execution_count": null,
   "metadata": {
    "id": "HYcalWkRkQDD"
   },
   "outputs": [],
   "source": [
    "clustered_songs=list(zip(rec_playlist_df.index,rec_playlist_df.iloc[:,-1]))\n",
    "sorted_songs=[[],[],[],[],[]]\n",
    "for i in range(len(clustered_songs)):\n",
    "    sorted_songs[clustered_songs[i][1]].append(clustered_songs[i][0])"
   ]
  },
  {
   "cell_type": "code",
   "execution_count": null,
   "metadata": {
    "id": "I1Nc_RO0kQDE"
   },
   "outputs": [],
   "source": [
    "for i in range(5):\n",
    "    sp.user_playlist_add_tracks(username,playlists[i]['id'],sorted_songs[i][:100]) #add new songs"
   ]
  },
  {
   "cell_type": "code",
   "execution_count": null,
   "metadata": {
    "id": "QrCotFBM6Shc",
    "outputId": "b01852f6-4582-4c3f-ac59-d5d146cd13c0"
   },
   "outputs": [
    {
     "data": {
      "text/plain": [
       "1    1796\n",
       "2     364\n",
       "4      25\n",
       "0      19\n",
       "3      16\n",
       "Name: cluster, dtype: int64"
      ]
     },
     "execution_count": 65,
     "metadata": {
      "tags": []
     },
     "output_type": "execute_result"
    }
   ],
   "source": [
    "rec_playlist_df['cluster'].value_counts() #Surprisingly, Spotify mostly suggested  energetic/dance songs"
   ]
  }
 ],
 "metadata": {
  "colab": {
   "name": "Clustering my songs on Spotify.ipynb",
   "provenance": []
  },
  "kernelspec": {
   "display_name": "Python 3",
   "language": "python",
   "name": "python3"
  },
  "language_info": {
   "codemirror_mode": {
    "name": "ipython",
    "version": 3
   },
   "file_extension": ".py",
   "mimetype": "text/x-python",
   "name": "python",
   "nbconvert_exporter": "python",
   "pygments_lexer": "ipython3",
   "version": "3.8.3"
  }
 },
 "nbformat": 4,
 "nbformat_minor": 1
}
